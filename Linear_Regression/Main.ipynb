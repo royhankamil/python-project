{
 "cells": [
  {
   "cell_type": "markdown",
   "metadata": {},
   "source": [
    "# Pembuatan Basic dalam Linear Regression"
   ]
  },
  {
   "cell_type": "code",
   "execution_count": 1,
   "metadata": {},
   "outputs": [],
   "source": [
    "%matplotlib widget\n",
    "\n",
    "import numpy as np\n",
    "import matplotlib.pyplot as plt\n",
    "from matplotlib.animation import FuncAnimation\n"
   ]
  },
  {
   "cell_type": "markdown",
   "metadata": {},
   "source": [
    "### Data X dan Y"
   ]
  },
  {
   "cell_type": "code",
   "execution_count": 2,
   "metadata": {},
   "outputs": [
    {
     "name": "stdout",
     "output_type": "stream",
     "text": [
      "[0.  0.1 0.2 0.3 0.4 0.5 0.6 0.7 0.8 0.9 1.  1.1 1.2 1.3 1.4 1.5 1.6 1.7\n",
      " 1.8 1.9 2.  2.1 2.2 2.3 2.4 2.5 2.6 2.7 2.8 2.9 3.  3.1 3.2 3.3 3.4 3.5\n",
      " 3.6 3.7 3.8 3.9 4.  4.1 4.2 4.3 4.4 4.5 4.6 4.7 4.8 4.9 5.  5.1 5.2 5.3\n",
      " 5.4 5.5 5.6 5.7 5.8 5.9 6.  6.1 6.2 6.3 6.4 6.5 6.6 6.7 6.8 6.9 7.  7.1\n",
      " 7.2 7.3 7.4 7.5 7.6 7.7 7.8 7.9 8.  8.1 8.2 8.3 8.4 8.5 8.6 8.7 8.8 8.9\n",
      " 9.  9.1 9.2 9.3 9.4 9.5 9.6 9.7 9.8 9.9]\n",
      "[ 1.8245545  -0.21348023  1.41172777  0.90877804  0.04137273  0.12362124\n",
      "  1.96271539  1.49731034  0.69451941  0.06398608  3.25814186  2.17620703\n",
      "  2.71891465 -0.50677703  2.36729029  0.71871094  1.56771205  0.13931799\n",
      "  0.71600202  2.48751864  1.04590591  3.02630432  1.63261478  3.56164917\n",
      "  2.45627584  1.7598034   0.89384078  2.86517831  2.9027234   2.20372259\n",
      "  2.73178092  3.47656919  2.57724291  4.27487344  1.74680503  3.84248164\n",
      "  5.2263242   4.21183494  5.81488862  2.78987925  5.87273157  4.98508048\n",
      "  5.79564259  5.51154293  2.23095818  3.7758733   4.69604317  4.490057\n",
      "  6.63617348  4.53243717  4.60432953  7.24777344  4.4042014   5.86055807\n",
      "  6.33986735  5.82611544  3.68908562  5.25994364  6.0777267   5.27142544\n",
      "  5.68142818  6.70682987  4.76776285  6.69531905  6.3912655   4.80910208\n",
      "  5.94481909  6.90766787  6.80960902  4.95161951  7.80006671  6.34123658\n",
      "  7.29535093  8.09734342  7.01528183  9.02126761  8.41402655  6.05364584\n",
      "  6.65166972  8.96878143  8.85453109  8.2373288  10.58040564  9.9445066\n",
      "  8.34505442  9.34339214  9.69725408  9.24597646  8.67171582  9.33747936\n",
      " 10.21815668  7.39845146  8.59008217  9.89038713  9.16082716  9.24134455\n",
      "  9.34189612 10.45740054 10.25676083  7.83325023]\n"
     ]
    }
   ],
   "source": [
    "panjang_data = 100\n",
    "\n",
    "data_y = np.array([i * 0.1+ np.random.randn() for i in range(panjang_data)])\n",
    "data_x = np.array([i*0.1 for i in range(panjang_data)])\n",
    "\n",
    "print(data_x)\n",
    "print(data_y)"
   ]
  },
  {
   "cell_type": "markdown",
   "metadata": {},
   "source": [
    "### fungsi linear regresi"
   ]
  },
  {
   "cell_type": "code",
   "execution_count": 3,
   "metadata": {},
   "outputs": [],
   "source": [
    "def linear_regresi(x, gradien):\n",
    "    y = gradien*x       \n",
    "    return y"
   ]
  },
  {
   "cell_type": "markdown",
   "metadata": {},
   "source": [
    "#### melakukan perhitungan linear awal"
   ]
  },
  {
   "cell_type": "code",
   "execution_count": 4,
   "metadata": {},
   "outputs": [],
   "source": [
    "x_prediksi = np.array([0, 10])\n",
    "m_awal_prediksi = 5\n",
    "y_prediksi = linear_regresi(x_prediksi, m_awal_prediksi)"
   ]
  },
  {
   "cell_type": "markdown",
   "metadata": {},
   "source": [
    "#### menampilkan data awal"
   ]
  },
  {
   "cell_type": "code",
   "execution_count": 5,
   "metadata": {},
   "outputs": [],
   "source": [
    "# # scatter itu adalah mengatur / menambahkan data berupa titik\n",
    "# plt.scatter(data_x, data_y, color=\"green\")\n",
    "# plt.plot(x_prediksi, y_prediksi, color=\"red\")\n",
    "\n",
    "# # minX, maxX, minY, maxY\n",
    "# plt.axis([0,10,0,10])\n",
    "# plt.show()"
   ]
  },
  {
   "cell_type": "code",
   "execution_count": 6,
   "metadata": {},
   "outputs": [],
   "source": [
    "m_prediksi = m_awal_prediksi\n",
    "m_list_prediksi = []\n",
    "x_list_prediksi = []\n",
    "y_list_prediksi = []\n",
    "\n",
    "# digunakan agar perpindahan prediksi jauh lebih halus dan akurat\n",
    "learning_rate = 0.1\n",
    "\n",
    "for i in range(1, panjang_data):\n",
    "    y_prediksi = linear_regresi(data_x[i], m_prediksi)\n",
    "    y_aslinya = data_y[i]\n",
    "\n",
    "    error = y_aslinya - y_prediksi\n",
    "    delta_m = learning_rate * error / data_x[i]\n",
    "    m_prediksi = m_prediksi + delta_m\n",
    "\n",
    "    m_list_prediksi.append(m_prediksi)\n",
    "    y_list_prediksi.append(linear_regresi(np.array([0,10]), m_prediksi))\n",
    "    x_list_prediksi.append(np.array([0,10]))\n",
    "\n",
    "\n",
    "# plt.scatter(data_x, data_y, color=\"green\")\n",
    "# plt.plot(x_prediksi, [0, y_list_prediksi[-1]], color=\"red\")\n",
    "# print(x_list_prediksi[-1], y_list_prediksi[0])\n",
    "# plt.axis([0,10,0,10])\n",
    "\n",
    "# plt.show()"
   ]
  },
  {
   "cell_type": "markdown",
   "metadata": {},
   "source": [
    "### visualisasi animasi prediksi"
   ]
  },
  {
   "cell_type": "code",
   "execution_count": 7,
   "metadata": {},
   "outputs": [
    {
     "data": {
      "application/vnd.jupyter.widget-view+json": {
       "model_id": "43a5315da3e94912a609ece68c5a7107",
       "version_major": 2,
       "version_minor": 0
      },
      "image/png": "[encoded data removed]",
      "text/html": [
       "\n",
       "            <div style=\"display: inline-block;\">\n",
       "                <div class=\"jupyter-widgets widget-label\" style=\"text-align: center;\">\n",
       "                    Regresi Linear\n",
       "                </div>\n",
       "                <img src='data:image/png;base64,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' width=400.0/>\n",
       "            </div>\n",
       "        "
      ],
      "text/plain": [
       "Canvas(toolbar=Toolbar(toolitems=[('Home', 'Reset original view', 'home', 'home'), ('Back', 'Back to previous …"
      ]
     },
     "metadata": {},
     "output_type": "display_data"
    }
   ],
   "source": [
    "fig = plt.figure(\"Regresi Linear\", figsize=(4, 4))\n",
    "line, = plt.plot([], [], color=\"red\")\n",
    "\n",
    "def animate(frame_num):\n",
    "    x = x_list_prediksi[frame_num]\n",
    "    y = y_list_prediksi[frame_num]\n",
    "    line.set_data((x, y))\n",
    "    return line\n",
    "\n",
    "plt.scatter(data_x, data_y)\n",
    "plt.axis([0,10,0,10])\n",
    "\n",
    "anime = FuncAnimation( fig, animate, frames=100, interval=100, repeat=False )\n",
    "plt.show()"
   ]
  },
  {
   "cell_type": "code",
   "execution_count": 9,
   "metadata": {},
   "outputs": [
    {
     "ename": "ValueError",
     "evalue": "operands could not be broadcast together with shapes (100,) (99,2) ",
     "output_type": "error",
     "traceback": [
      "\u001b[1;31m---------------------------------------------------------------------------\u001b[0m",
      "\u001b[1;31mValueError\u001b[0m                                Traceback (most recent call last)",
      "Cell \u001b[1;32mIn[9], line 8\u001b[0m\n\u001b[0;32m      3\u001b[0m     \u001b[38;5;28;01mreturn\u001b[39;00m np\u001b[38;5;241m.\u001b[39mmean((Y_true \u001b[38;5;241m-\u001b[39m Y_pred)\u001b[38;5;241m*\u001b[39m\u001b[38;5;241m*\u001b[39m\u001b[38;5;241m2\u001b[39m)\n\u001b[0;32m      5\u001b[0m \u001b[38;5;66;03m# np.delete\u001b[39;00m\n\u001b[0;32m      6\u001b[0m \n\u001b[0;32m      7\u001b[0m \u001b[38;5;66;03m# Menghitung MSE\u001b[39;00m\n\u001b[1;32m----> 8\u001b[0m mse \u001b[38;5;241m=\u001b[39m \u001b[43mmean_squared_error\u001b[49m\u001b[43m(\u001b[49m\u001b[43mdata_y\u001b[49m\u001b[43m,\u001b[49m\u001b[43m \u001b[49m\u001b[43my_list_prediksi\u001b[49m\u001b[43m)\u001b[49m\n\u001b[0;32m     10\u001b[0m \u001b[38;5;66;03m# Menghitung R-squared\u001b[39;00m\n\u001b[0;32m     11\u001b[0m ssr \u001b[38;5;241m=\u001b[39m np\u001b[38;5;241m.\u001b[39msum((y_list_prediksi \u001b[38;5;241m-\u001b[39m np\u001b[38;5;241m.\u001b[39mmean(data_y))\u001b[38;5;241m*\u001b[39m\u001b[38;5;241m*\u001b[39m\u001b[38;5;241m2\u001b[39m)\n",
      "Cell \u001b[1;32mIn[9], line 3\u001b[0m, in \u001b[0;36mmean_squared_error\u001b[1;34m(Y_true, Y_pred)\u001b[0m\n\u001b[0;32m      2\u001b[0m \u001b[38;5;28;01mdef\u001b[39;00m \u001b[38;5;21mmean_squared_error\u001b[39m(Y_true, Y_pred):\n\u001b[1;32m----> 3\u001b[0m     \u001b[38;5;28;01mreturn\u001b[39;00m np\u001b[38;5;241m.\u001b[39mmean((\u001b[43mY_true\u001b[49m\u001b[43m \u001b[49m\u001b[38;5;241;43m-\u001b[39;49m\u001b[43m \u001b[49m\u001b[43mY_pred\u001b[49m)\u001b[38;5;241m*\u001b[39m\u001b[38;5;241m*\u001b[39m\u001b[38;5;241m2\u001b[39m)\n",
      "\u001b[1;31mValueError\u001b[0m: operands could not be broadcast together with shapes (100,) (99,2) "
     ]
    }
   ],
   "source": [
    "# Fungsi untuk menghitung MSE\n",
    "def mean_squared_error(Y_true, Y_pred):\n",
    "    return np.mean((Y_true - Y_pred)**2)\n",
    "\n",
    "# np.delete\n",
    "\n",
    "# Menghitung MSE\n",
    "mse = mean_squared_error(data_y, y_list_prediksi)\n",
    "\n",
    "# Menghitung R-squared\n",
    "ssr = np.sum((y_list_prediksi - np.mean(data_y))**2)\n",
    "sst = np.sum((data_y - np.mean(data_y))**2)\n",
    "r_squared = ssr / sst\n",
    "\n",
    "print(\"Mean Squared Error (MSE):\", mse)\n",
    "print(\"R-squared (R^2):\", r_squared)\n"
   ]
  }
 ],
 "metadata": {
  "kernelspec": {
   "display_name": "Python 3",
   "language": "python",
   "name": "python3"
  },
  "language_info": {
   "codemirror_mode": {
    "name": "ipython",
    "version": 3
   },
   "file_extension": ".py",
   "mimetype": "text/x-python",
   "name": "python",
   "nbconvert_exporter": "python",
   "pygments_lexer": "ipython3",
   "version": "3.9.6"
  }
 },
 "nbformat": 4,
 "nbformat_minor": 2
}
